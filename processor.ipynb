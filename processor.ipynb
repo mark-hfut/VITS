{
 "cells": [
  {
   "cell_type": "markdown",
   "metadata": {},
   "source": [
    "## File list division"
   ]
  },
  {
   "cell_type": "code",
   "execution_count": 1,
   "metadata": {},
   "outputs": [],
   "source": [
    "import random\n",
    "\n",
    "filelist_path = 'filelists/filelist.txt'\n",
    "trn_filels_path = 'filelists/train_filelist.txt'\n",
    "val_filels_path = 'filelists/val_filelist.txt'\n",
    "val_ratio = 0.1\n",
    "filels_by_chara = {}\n",
    "\n",
    "with open(filelist_path, 'r', encoding='utf8') as f:\n",
    "    lines = f.readlines()\n",
    "    for line in lines:\n",
    "        line = line.strip().split('\\t')\n",
    "        sid = line[1]\n",
    "        if sid not in filels_by_chara:\n",
    "            filels_by_chara[sid] = [line]\n",
    "        else:\n",
    "            filels_by_chara[sid].append(line)\n",
    "            \n",
    "val_filewrite_num_ls = [int(len(filels_by_chara[k]) * val_ratio) for k in filels_by_chara.keys()]\n",
    "\n",
    "with open(val_filels_path, 'w', encoding='utf8') as f:\n",
    "    for idx, i in enumerate(val_filewrite_num_ls):\n",
    "        for line in random.sample(filels_by_chara[str(idx)], i):\n",
    "            f.writelines([\"\\t\".join(line) + \"\\n\"])\n",
    "            filels_by_chara[str(idx)].remove(line)\n",
    "\n",
    "with open(trn_filels_path, 'w', encoding='utf8') as f:\n",
    "    for idx in range(len(val_filewrite_num_ls)):\n",
    "        f.writelines([\"\\t\".join(line) + \"\\n\" for line in filels_by_chara[str(idx)]])"
   ]
  },
  {
   "cell_type": "markdown",
   "metadata": {},
   "source": [
    "## File list preprosess"
   ]
  },
  {
   "cell_type": "code",
   "execution_count": 12,
   "metadata": {},
   "outputs": [
    {
     "name": "stdout",
     "output_type": "stream",
     "text": [
      "START: filelists/train_filelist.txt\n",
      "START: filelists/val_filelist.txt\n"
     ]
    }
   ],
   "source": [
    "import argparse\n",
    "import text\n",
    "from utils import load_filepaths_and_text\n",
    "\n",
    "# parser = argparse.ArgumentParser()\n",
    "# parser.add_argument(\"--out_extension\", default=\"cleaned\")\n",
    "# parser.add_argument(\"--text_index\", default=2, type=int)\n",
    "# parser.add_argument(\"--filelists\", nargs=\"+\", default=[\"filelists/train_filelist.txt\", \"filelists/val_filelist.txt\"])\n",
    "# parser.add_argument(\"--text_cleaners\", nargs=\"+\", default=[\"chinese_cleaners2\"])\n",
    "\n",
    "args = {\"out_extension\": \"cleaned\",\n",
    "        \"text_index\": 2,\n",
    "        \"filelists\": [\"filelists/train_filelist.txt\", \"filelists/val_filelist.txt\"],\n",
    "        \"text_cleaners\": [\"chinese_cleaners2\"]}\n",
    "    \n",
    "for filelist in args['filelists']:\n",
    "    print(\"START:\", filelist)\n",
    "    filepaths_and_text = load_filepaths_and_text(filelist)\n",
    "    for i in range(len(filepaths_and_text)):\n",
    "        original_text = filepaths_and_text[i][args['text_index']]\n",
    "        cleaned_text = text._clean_text(original_text, args['text_cleaners'])\n",
    "        filepaths_and_text[i][args['text_index']] = cleaned_text\n",
    "\n",
    "    new_filelist = filelist + \".\" + args['out_extension']\n",
    "    with open(new_filelist, \"w\", encoding=\"utf-8\") as f:\n",
    "        f.writelines([\"\\t\".join(x) + \"\\n\" for x in filepaths_and_text])"
   ]
  },
  {
   "cell_type": "markdown",
   "metadata": {},
   "source": [
    "## Audio resampling"
   ]
  },
  {
   "cell_type": "code",
   "execution_count": 6,
   "metadata": {},
   "outputs": [],
   "source": [
    "import librosa\n",
    "import os\n",
    "import soundfile as sf\n",
    "def resample_rate(path, new_sample_rate = 22050):\n",
    "    files = os.listdir(path)\n",
    "    for file in files:\n",
    "        file_path = path + file\n",
    "        signal, sr = librosa.load(file_path, sr=48000)\n",
    "        new_signal = librosa.resample(signal, sr, new_sample_rate)\n",
    "        sf.write(file_path, new_signal , new_sample_rate)\n",
    "resample_rate('./src/audio/')"
   ]
  },
  {
   "cell_type": "code",
   "execution_count": null,
   "metadata": {},
   "outputs": [],
   "source": []
  }
 ],
 "metadata": {
  "kernelspec": {
   "display_name": "Python 3.9.12 ('base')",
   "language": "python",
   "name": "python3"
  },
  "language_info": {
   "codemirror_mode": {
    "name": "ipython",
    "version": 3
   },
   "file_extension": ".py",
   "mimetype": "text/x-python",
   "name": "python",
   "nbconvert_exporter": "python",
   "pygments_lexer": "ipython3",
   "version": "3.9.12"
  },
  "orig_nbformat": 4,
  "vscode": {
   "interpreter": {
    "hash": "ad2bdc8ecc057115af97d19610ffacc2b4e99fae6737bb82f5d7fb13d2f2c186"
   }
  }
 },
 "nbformat": 4,
 "nbformat_minor": 2
}
