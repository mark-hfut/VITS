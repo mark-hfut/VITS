{
 "cells": [
  {
   "cell_type": "markdown",
   "metadata": {},
   "source": [
    "## File list division"
   ]
  },
  {
   "cell_type": "code",
   "execution_count": 1,
   "metadata": {},
   "outputs": [],
   "source": [
    "import random\n",
    "\n",
    "filelist_path = 'filelists/filelist.txt'\n",
    "trn_filels_path = 'filelists/train_filelist.txt'\n",
    "val_filels_path = 'filelists/val_filelist.txt'\n",
    "val_ratio = 0.1\n",
    "filels_by_chara = {}\n",
    "\n",
    "with open(filelist_path, 'r', encoding='utf8') as f:\n",
    "    lines = f.readlines()\n",
    "    for line in lines:\n",
    "        line = line.strip().split('\\t')\n",
    "        sid = line[1]\n",
    "        if sid not in filels_by_chara:\n",
    "            filels_by_chara[sid] = [line]\n",
    "        else:\n",
    "            filels_by_chara[sid].append(line)\n",
    "            \n",
    "val_filewrite_num_ls = [int(len(filels_by_chara[k]) * val_ratio) for k in filels_by_chara.keys()]\n",
    "\n",
    "with open(val_filels_path, 'w', encoding='utf8') as f:\n",
    "    for idx, i in enumerate(val_filewrite_num_ls):\n",
    "        for line in random.sample(filels_by_chara[str(idx)], i):\n",
    "            f.writelines([\"\\t\".join(line) + \"\\n\"])\n",
    "            filels_by_chara[str(idx)].remove(line)\n",
    "\n",
    "with open(trn_filels_path, 'w', encoding='utf8') as f:\n",
    "    for idx in range(len(val_filewrite_num_ls)):\n",
    "        f.writelines([\"\\t\".join(line) + \"\\n\" for line in filels_by_chara[str(idx)]])"
   ]
  },
  {
   "cell_type": "markdown",
   "metadata": {},
   "source": [
    "## File list preprosess"
   ]
  },
  {
   "cell_type": "code",
   "execution_count": 11,
   "metadata": {},
   "outputs": [
    {
     "ename": "AttributeError",
     "evalue": "'dict' object has no attribute 'filelists'",
     "output_type": "error",
     "traceback": [
      "\u001b[1;31m---------------------------------------------------------------------------\u001b[0m",
      "\u001b[1;31mAttributeError\u001b[0m                            Traceback (most recent call last)",
      "\u001b[1;32me:\\NUS\\IS\\GroupProject\\VITS\\processor.ipynb Cell 4\u001b[0m in \u001b[0;36m<cell line: 16>\u001b[1;34m()\u001b[0m\n\u001b[0;32m      <a href='vscode-notebook-cell:/e%3A/NUS/IS/GroupProject/VITS/processor.ipynb#W3sZmlsZQ%3D%3D?line=4'>5</a>\u001b[0m \u001b[39m# parser = argparse.ArgumentParser()\u001b[39;00m\n\u001b[0;32m      <a href='vscode-notebook-cell:/e%3A/NUS/IS/GroupProject/VITS/processor.ipynb#W3sZmlsZQ%3D%3D?line=5'>6</a>\u001b[0m \u001b[39m# parser.add_argument(\"--out_extension\", default=\"cleaned\")\u001b[39;00m\n\u001b[0;32m      <a href='vscode-notebook-cell:/e%3A/NUS/IS/GroupProject/VITS/processor.ipynb#W3sZmlsZQ%3D%3D?line=6'>7</a>\u001b[0m \u001b[39m# parser.add_argument(\"--text_index\", default=2, type=int)\u001b[39;00m\n\u001b[0;32m      <a href='vscode-notebook-cell:/e%3A/NUS/IS/GroupProject/VITS/processor.ipynb#W3sZmlsZQ%3D%3D?line=7'>8</a>\u001b[0m \u001b[39m# parser.add_argument(\"--filelists\", nargs=\"+\", default=[\"filelists/train_filelist.txt\", \"filelists/val_filelist.txt\"])\u001b[39;00m\n\u001b[0;32m      <a href='vscode-notebook-cell:/e%3A/NUS/IS/GroupProject/VITS/processor.ipynb#W3sZmlsZQ%3D%3D?line=8'>9</a>\u001b[0m \u001b[39m# parser.add_argument(\"--text_cleaners\", nargs=\"+\", default=[\"chinese_cleaners2\"])\u001b[39;00m\n\u001b[0;32m     <a href='vscode-notebook-cell:/e%3A/NUS/IS/GroupProject/VITS/processor.ipynb#W3sZmlsZQ%3D%3D?line=10'>11</a>\u001b[0m args \u001b[39m=\u001b[39m {\u001b[39m\"\u001b[39m\u001b[39mout_extension\u001b[39m\u001b[39m\"\u001b[39m: \u001b[39m\"\u001b[39m\u001b[39mcleaned\u001b[39m\u001b[39m\"\u001b[39m,\n\u001b[0;32m     <a href='vscode-notebook-cell:/e%3A/NUS/IS/GroupProject/VITS/processor.ipynb#W3sZmlsZQ%3D%3D?line=11'>12</a>\u001b[0m         \u001b[39m\"\u001b[39m\u001b[39mtext_index\u001b[39m\u001b[39m\"\u001b[39m: \u001b[39m2\u001b[39m,\n\u001b[0;32m     <a href='vscode-notebook-cell:/e%3A/NUS/IS/GroupProject/VITS/processor.ipynb#W3sZmlsZQ%3D%3D?line=12'>13</a>\u001b[0m         \u001b[39m\"\u001b[39m\u001b[39mfilelists\u001b[39m\u001b[39m\"\u001b[39m: [\u001b[39m\"\u001b[39m\u001b[39mfilelists/train_filelist.txt\u001b[39m\u001b[39m\"\u001b[39m, \u001b[39m\"\u001b[39m\u001b[39mfilelists/val_filelist.txt\u001b[39m\u001b[39m\"\u001b[39m],\n\u001b[0;32m     <a href='vscode-notebook-cell:/e%3A/NUS/IS/GroupProject/VITS/processor.ipynb#W3sZmlsZQ%3D%3D?line=13'>14</a>\u001b[0m         \u001b[39m\"\u001b[39m\u001b[39mtext_cleaners\u001b[39m\u001b[39m\"\u001b[39m: [\u001b[39m\"\u001b[39m\u001b[39mchinese_cleaners2\u001b[39m\u001b[39m\"\u001b[39m]}\n\u001b[1;32m---> <a href='vscode-notebook-cell:/e%3A/NUS/IS/GroupProject/VITS/processor.ipynb#W3sZmlsZQ%3D%3D?line=15'>16</a>\u001b[0m \u001b[39mfor\u001b[39;00m filelist \u001b[39min\u001b[39;00m args\u001b[39m.\u001b[39;49mfilelists:\n\u001b[0;32m     <a href='vscode-notebook-cell:/e%3A/NUS/IS/GroupProject/VITS/processor.ipynb#W3sZmlsZQ%3D%3D?line=16'>17</a>\u001b[0m     \u001b[39mprint\u001b[39m(\u001b[39m\"\u001b[39m\u001b[39mSTART:\u001b[39m\u001b[39m\"\u001b[39m, filelist)\n\u001b[0;32m     <a href='vscode-notebook-cell:/e%3A/NUS/IS/GroupProject/VITS/processor.ipynb#W3sZmlsZQ%3D%3D?line=17'>18</a>\u001b[0m     filepaths_and_text \u001b[39m=\u001b[39m load_filepaths_and_text(filelist)\n",
      "\u001b[1;31mAttributeError\u001b[0m: 'dict' object has no attribute 'filelists'"
     ]
    }
   ],
   "source": [
    "import argparse\n",
    "import text\n",
    "from utils import load_filepaths_and_text\n",
    "\n",
    "# parser = argparse.ArgumentParser()\n",
    "# parser.add_argument(\"--out_extension\", default=\"cleaned\")\n",
    "# parser.add_argument(\"--text_index\", default=2, type=int)\n",
    "# parser.add_argument(\"--filelists\", nargs=\"+\", default=[\"filelists/train_filelist.txt\", \"filelists/val_filelist.txt\"])\n",
    "# parser.add_argument(\"--text_cleaners\", nargs=\"+\", default=[\"chinese_cleaners2\"])\n",
    "\n",
    "args = {\"out_extension\": \"cleaned\",\n",
    "        \"text_index\": 2,\n",
    "        \"filelists\": [\"filelists/train_filelist.txt\", \"filelists/val_filelist.txt\"],\n",
    "        \"text_cleaners\": [\"chinese_cleaners2\"]}\n",
    "    \n",
    "for filelist in args.filelists:\n",
    "    print(\"START:\", filelist)\n",
    "    filepaths_and_text = load_filepaths_and_text(filelist)\n",
    "    for i in range(len(filepaths_and_text)):\n",
    "        original_text = filepaths_and_text[i][args.text_index]\n",
    "        cleaned_text = text._clean_text(original_text, args.text_cleaners)\n",
    "        filepaths_and_text[i][args.text_index] = cleaned_text\n",
    "\n",
    "    new_filelist = filelist + \".\" + args.out_extension\n",
    "    with open(new_filelist, \"w\", encoding=\"utf-8\") as f:\n",
    "        f.writelines([\"\\t\".join(x) + \"\\n\" for x in filepaths_and_text])"
   ]
  },
  {
   "cell_type": "markdown",
   "metadata": {},
   "source": [
    "## Audio resampling"
   ]
  },
  {
   "cell_type": "code",
   "execution_count": 6,
   "metadata": {},
   "outputs": [],
   "source": [
    "import librosa\n",
    "import os\n",
    "import soundfile as sf\n",
    "def resample_rate(path, new_sample_rate = 22050):\n",
    "    files = os.listdir(path)\n",
    "    for file in files:\n",
    "        file_path = path + file\n",
    "        signal, sr = librosa.load(file_path, sr=48000)\n",
    "        new_signal = librosa.resample(signal, sr, new_sample_rate)\n",
    "        sf.write(file_path, new_signal , new_sample_rate)\n",
    "resample_rate('./src/audio/')"
   ]
  },
  {
   "cell_type": "code",
   "execution_count": null,
   "metadata": {},
   "outputs": [],
   "source": []
  }
 ],
 "metadata": {
  "kernelspec": {
   "display_name": "Python 3.9.12 ('base')",
   "language": "python",
   "name": "python3"
  },
  "language_info": {
   "codemirror_mode": {
    "name": "ipython",
    "version": 3
   },
   "file_extension": ".py",
   "mimetype": "text/x-python",
   "name": "python",
   "nbconvert_exporter": "python",
   "pygments_lexer": "ipython3",
   "version": "3.9.12"
  },
  "orig_nbformat": 4,
  "vscode": {
   "interpreter": {
    "hash": "ad2bdc8ecc057115af97d19610ffacc2b4e99fae6737bb82f5d7fb13d2f2c186"
   }
  }
 },
 "nbformat": 4,
 "nbformat_minor": 2
}
